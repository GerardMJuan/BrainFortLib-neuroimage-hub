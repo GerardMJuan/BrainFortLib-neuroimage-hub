{
 "cells": [
  {
   "cell_type": "code",
   "execution_count": 5,
   "metadata": {},
   "outputs": [
    {
     "data": {
      "text/plain": [
       "'C:\\\\Users\\\\marc\\\\Desktop\\\\BIDS'"
      ]
     },
     "execution_count": 5,
     "metadata": {},
     "output_type": "execute_result"
    }
   ],
   "source": [
    "import os\n",
    "import fnmatch\n",
    "os.getcwd()"
   ]
  },
  {
   "cell_type": "code",
   "execution_count": 2,
   "metadata": {},
   "outputs": [
    {
     "data": {
      "text/plain": [
       "'C:\\\\Users\\\\marc\\\\Desktop\\\\BIDS'"
      ]
     },
     "execution_count": 2,
     "metadata": {},
     "output_type": "execute_result"
    }
   ],
   "source": [
    "#A\n",
    "\n",
    "#os.chdir(\"C:\\\\Users\\\\marc\\\\Desktop\\\\BIDS\")\n",
    "#os.getcwd()\n",
    "#Ja estic dins del directori ueeeeeeeee"
   ]
  },
  {
   "cell_type": "code",
   "execution_count": 3,
   "metadata": {},
   "outputs": [
    {
     "data": {
      "text/plain": [
       "['sub-ADNI003S4900',\n",
       " 'sub-ADNI006S4153',\n",
       " 'sub-ADNI021S4254',\n",
       " 'sub-ADNI029S1215',\n",
       " 'sub-ADNI035S4114',\n",
       " 'sub-ADNI052S1054',\n",
       " 'sub-ADNI082S0640',\n",
       " 'sub-ADNI099S2063',\n",
       " 'sub-ADNI137S0438',\n",
       " 'sub-ADNI941S1194']"
      ]
     },
     "execution_count": 3,
     "metadata": {},
     "output_type": "execute_result"
    }
   ],
   "source": [
    "os.listdir(\".\")"
   ]
  },
  {
   "cell_type": "code",
   "execution_count": 24,
   "metadata": {},
   "outputs": [
    {
     "name": "stdout",
     "output_type": "stream",
     "text": [
      "Well structured, zero errors\n"
     ]
    }
   ],
   "source": [
    "bonst1 = 0\n",
    "pets = 0\n",
    "errors = 0\n",
    "tsv_ses = 0\n",
    "tsv_type = 0\n",
    "\n",
    "for subject in os.listdir('.'):\n",
    "    \n",
    "    #print(\"Change to subject\",subject)    \n",
    "    if subject[0:8] == \"sub-ADNI\" and subject[8:17]!=\"\": #Subject name checking\n",
    "        \n",
    "        for session in os.listdir('.\\\\' + subject): #Listing of session files\n",
    "            \n",
    "            if session[0:5]==\"ses-M\" and session[5:7]!=\"\":\n",
    "                \n",
    "                #print(\"This is session\",session)\n",
    "                for tipo in os.listdir('.\\\\' + subject + \"\\\\\" + session):\n",
    "                    \n",
    "                    if tipo == \"anat\":\n",
    "                        \n",
    "                        for t1 in os.listdir('.\\\\' + subject + \"\\\\\" + session + \"\\\\\" + tipo):\n",
    "                            \n",
    "                            if t1 != subject +\"_\"+ session + \"_T1w.nii.gz\":\n",
    "                                print(\"ERROR: Image name\",t1,\"of imaging modality\",tipo,\"in session\",session,\"of subject\",subject,\"is wrong\")\n",
    "                                errors = errors + 1\n",
    "                            else:\n",
    "                                bonst1 = bonst1 + 1\n",
    "                                #print(\"We have\",bonst1,\"good T1\")\n",
    "                        \n",
    "                        \n",
    "                        \n",
    "                    elif tipo == \"pet\":\n",
    "                        \n",
    "                        for pet in os.listdir('.\\\\' + subject + \"\\\\\" + session + \"\\\\\" + tipo):\n",
    "                            \n",
    "                            #if fnmatch.fnmatch(pet,subject+\"_\"+session+\"_task-rest_acq-\"+\"*\"+\"_rec-ac_run-\"+\"*\"+\"_pet.nii.gz\"):\n",
    "                                #pets = pets + 1\n",
    "                                #print(\"We have\",pets,\"PETS\")\n",
    "                            \n",
    "                            #elif fnmatch.fnmatch(pet,subject+\"_\"+session+\"_task-rest_acq-\"+\"*\"+\"_rec-nac_run-\"+\"*\"+\"_pet.nii.gz\"):\n",
    "                                #pets = pets + 1\n",
    "                                #print(\"We have\",pets,\"PETS\")\n",
    "                            \n",
    "                            if fnmatch.fnmatch(pet,subject+\"_\"+session+\"_task-rest_acq-\"+\"*\"+\"_pet.nii.gz\"):\n",
    "                                pets = pets + 1\n",
    "                                #print(\"We have\",pets,\"PETS\")\n",
    "                            \n",
    "                            elif fnmatch.fnmatch(pet,subject+\"_\"+session+\"_task-rest_acq-\"+\"*\"+\"_pet.nii\"):\n",
    "                                pets = pets + 1\n",
    "                                #print(\"We have\",pets,\"PETS\")\n",
    "                            \n",
    "                            #elif fnmatch.fnmatch(pet,subject+\"_\"+session+\"_task-rest_acq-\"+\"*\"+\"_rec-ac\"+\"_pet.nii.gz\"):\n",
    "                                #pets = pets + 1\n",
    "                                #print(\"We have\",pets,\"PETS\")\n",
    "                                \n",
    "                            #elif fnmatch.fnmatch(pet,subject+\"_\"+session+\"_task-rest_acq-\"+\"*\"+\"_rec-nac\"+\"_pet.nii.gz\"):\n",
    "                                #pets = pets + 1\n",
    "                                #print(\"We have\",pets,\"PETS\")\n",
    "                            \n",
    "                            else:\n",
    "                                print(\"ERROR: Image name\",pet,\"of imaging modality\",tipo,\"in session\",session,\"of the subject\",subject,\"is wrong\")\n",
    "                                errors = errors + 1\n",
    "\n",
    "                            \n",
    "                    elif tipo == subject + \"_\" + session + \"_scans.tsv\":\n",
    "                        tsv_type = tsv_type + 1\n",
    "                        #print (\"Session\",session,\"of subject\",subject,\"has a TSV file. We have\",tsv_type,\"good ones\")\n",
    "                    \n",
    "                    else:\n",
    "                        print(\"ERROR: Imaging modality\",tipo,\"in session\",session,\"of subject\",subject,\"is wrong\")\n",
    "                        errors = errors + 1\n",
    "                    \n",
    "                    #end de l'if del TYPE\n",
    "                    \n",
    "                #end del for de type\n",
    "                \n",
    "            \n",
    "            elif session == subject + \"_sessions.tsv\":\n",
    "                tsv_ses = tsv_ses + 1\n",
    "                #print(\"There is a TSV file for the subject\",subject,)\n",
    "            \n",
    "            else:\n",
    "                print(\"ERROR: Session name\",session,\"of subject\",subject,\"is wrong\")\n",
    "                errors = errors + 1\n",
    "            \n",
    "            #end de l'if del nom de SESSIONS\n",
    "        \n",
    "        #end del for de sessions\n",
    "            \n",
    "                       \n",
    "                    \n",
    "    \n",
    "    else:\n",
    "        print(\"ERROR: Subject name\",subject,\"is wronh\")\n",
    "        errors = errors + 1\n",
    "    #end de l'if del nom de SUBJECTS\n",
    "    \n",
    "    \n",
    "    \n",
    "#end del for de subjects\n",
    "\n",
    "if errors == 0:\n",
    "    print(\"Well structured, zero errors\")\n",
    "else:\n",
    "    print(errors,\"errors in global\")\n",
    "   "
   ]
  },
  {
   "cell_type": "code",
   "execution_count": null,
   "metadata": {
    "collapsed": true
   },
   "outputs": [],
   "source": []
  }
 ],
 "metadata": {
  "kernelspec": {
   "display_name": "Python 3",
   "language": "python",
   "name": "python3"
  },
  "language_info": {
   "codemirror_mode": {
    "name": "ipython",
    "version": 3
   },
   "file_extension": ".py",
   "mimetype": "text/x-python",
   "name": "python",
   "nbconvert_exporter": "python",
   "pygments_lexer": "ipython3",
   "version": "3.6.3"
  }
 },
 "nbformat": 4,
 "nbformat_minor": 2
}
